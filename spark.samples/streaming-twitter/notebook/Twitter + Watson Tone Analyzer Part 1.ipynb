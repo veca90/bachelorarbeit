{
 "cells": [
  {
   "cell_type": "markdown",
   "metadata": {},
   "source": [
    "#Twitter + Watson Tone Analyzer sample Notebook Part 1: Loading the data\n",
    "In this Notebook, we show how to load the custom library generate as part of the Twitter + Watson Tone Analyzer streaming application. Code can be found here: https://github.com/ibm-cds-labs/spark.samples/tree/master/streaming-twitter.\n",
    "The following code is using a pre-built jar has been posted on the Github project, but you can replace with your own url if needed."
   ]
  },
  {
   "cell_type": "code",
   "execution_count": 1,
   "metadata": {
    "collapsed": false
   },
   "outputs": [
    {
     "name": "stdout",
     "output_type": "stream",
     "text": [
      "Starting download from https://github.com/DTAIEB/demos/raw/master/streaming-twitter-assembly-1.6.jar\n",
      "Finished download of streaming-twitter-assembly-1.6.jar\n"
     ]
    }
   ],
   "source": [
    "%AddJar https://github.com/DTAIEB/demos/raw/master/streaming-twitter-assembly-1.6.jar -f"
   ]
  },
  {
   "cell_type": "markdown",
   "metadata": {},
   "source": [
    "##Set up the Twitter and Watson credentials\n",
    "Please refer to the tutorial for details on how to find the Twitter and Watson credentials, then add the value in the placeholders specified in the code below"
   ]
  },
  {
   "cell_type": "code",
   "execution_count": 2,
   "metadata": {
    "collapsed": false
   },
   "outputs": [],
   "source": [
    "val demo = com.ibm.cds.spark.samples.StreamingTwitter\n",
    "demo.setConfig(\"twitter4j.oauth.consumerKey\",\"XXXX\")\n",
    "demo.setConfig(\"twitter4j.oauth.consumerSecret\",\"XXXX\")\n",
    "demo.setConfig(\"twitter4j.oauth.accessToken\",\"XXXX\")\n",
    "demo.setConfig(\"twitter4j.oauth.accessTokenSecret\",\"XXXX\")\n",
    "demo.setConfig(\"watson.tone.url\",\"https://gateway.watsonplatform.net/tone-analyzer-beta/api\")\n",
    "demo.setConfig(\"watson.tone.password\",\"XXXX\")\n",
    "demo.setConfig(\"watson.tone.username\",\"XXXX\")"
   ]
  },
  {
   "cell_type": "markdown",
   "metadata": {},
   "source": [
    "##Start the Spark Stream to collect live tweets\n",
    "Start a new Twitter Stream that collects the live tweets and enrich them with Sentiment Analysis scores. The stream is run for a duration specified in the second argument of the **startTwitterStreaming** method.\n",
    "Note: if no duration is specified then the stream will run until the **stopTwitterStreaming** method is called."
   ]
  },
  {
   "cell_type": "code",
   "execution_count": 3,
   "metadata": {
    "collapsed": false
   },
   "outputs": [
    {
     "name": "stdout",
     "output_type": "stream",
     "text": [
      "Twitter stream started\n",
      "Tweets are collected real-time and analyzed\n",
      "To stop the streaming and start interacting with the data use: StreamingTwitter.stopTwitterStreaming\n",
      "Receiver Started: TwitterReceiver-0\n",
      "Batch started with 139 records\n",
      "Batch completed with 139 records\n",
      "Batch started with 270 records\n",
      "Stopping Twitter stream. Please wait this may take a while\n",
      "Receiver Stopped: TwitterReceiver-0\n",
      "Reason:  : Stopped by driver\n",
      "Batch completed with 270 records\n",
      "Twitter stream stopped\n",
      "You can now create a sqlContext and DataFrame with 38 Tweets created. Sample usage: \n",
      "val (sqlContext, df) = com.ibm.cds.spark.samples.StreamingTwitter.createTwitterDataFrames(sc)\n",
      "df.printSchema\n",
      "sqlContext.sql(\"select author, text from tweets\").show\n"
     ]
    }
   ],
   "source": [
    "import org.apache.spark.streaming._\n",
    "demo.startTwitterStreaming(sc, Seconds(40))"
   ]
  },
  {
   "cell_type": "markdown",
   "metadata": {},
   "source": [
    "##Create a SQLContext and a dataframe with all the tweets\n",
    "Note: this method will register a SparkSQL table called tweets"
   ]
  },
  {
   "cell_type": "code",
   "execution_count": 4,
   "metadata": {
    "collapsed": false
   },
   "outputs": [
    {
     "name": "stdout",
     "output_type": "stream",
     "text": [
      "A new table named tweets with 38 records has been correctly created and can be accessed through the SQLContext variable\n",
      "Here's the schema for tweets\n",
      "root\n",
      " |-- author: string (nullable = true)\n",
      " |-- date: string (nullable = true)\n",
      " |-- lang: string (nullable = true)\n",
      " |-- text: string (nullable = true)\n",
      " |-- lat: double (nullable = true)\n",
      " |-- long: double (nullable = true)\n",
      " |-- Anger: double (nullable = true)\n",
      " |-- Disgust: double (nullable = true)\n",
      " |-- Fear: double (nullable = true)\n",
      " |-- Joy: double (nullable = true)\n",
      " |-- Sadness: double (nullable = true)\n",
      " |-- Analytical: double (nullable = true)\n",
      " |-- Confident: double (nullable = true)\n",
      " |-- Tentative: double (nullable = true)\n",
      " |-- Openness: double (nullable = true)\n",
      " |-- Conscientiousness: double (nullable = true)\n",
      " |-- Extraversion: double (nullable = true)\n",
      " |-- Agreeableness: double (nullable = true)\n",
      " |-- EmotionalRange: double (nullable = true)\n",
      "\n"
     ]
    }
   ],
   "source": [
    "val (sqlContext, df) = demo.createTwitterDataFrames(sc)"
   ]
  },
  {
   "cell_type": "markdown",
   "metadata": {},
   "source": [
    "##Execute a SparkSQL query that contains all the data"
   ]
  },
  {
   "cell_type": "code",
   "execution_count": 5,
   "metadata": {
    "collapsed": false
   },
   "outputs": [
    {
     "name": "stdout",
     "output_type": "stream",
     "text": [
      "+--------------------+--------------------+-----+--------------------+---+----+------------------+------------------+------------------+-----------------+------------------+----------+---------+-----------------+-----------------+------------------+-----------------+-----------------+-----------------+\n",
      "|              author|                date| lang|                text|lat|long|             Anger|           Disgust|              Fear|              Joy|           Sadness|Analytical|Confident|        Tentative|         Openness| Conscientiousness|     Extraversion|    Agreeableness|   EmotionalRange|\n",
      "+--------------------+--------------------+-----+--------------------+---+----+------------------+------------------+------------------+-----------------+------------------+----------+---------+-----------------+-----------------+------------------+-----------------+-----------------+-----------------+\n",
      "|Three Words o Wisdom|Sun Mar 06 13:00:...|en-gb|wildebeest rebuff...|0.0| 0.0|              11.0|              20.0|              19.0|             44.0|              22.0|       0.0|      0.0|              0.0|             80.0| 56.00000000000001|             15.0|              1.0|             39.0|\n",
      "|             Jonny P|Sun Mar 06 13:00:...|   en|Getting a pizza i...|0.0| 0.0|               8.0|               5.0|              13.0|56.00000000000001|               5.0|       0.0|      0.0|56.99999999999999|             24.0|              23.0|             83.0|56.99999999999999|             82.0|\n",
      "|               Kayla|Sun Mar 06 13:00:...|   en|RT @ebhoniogarro:...|0.0| 0.0|               2.0|               0.0|               1.0|             99.0|               2.0|       0.0|      0.0|              0.0|             30.0| 56.00000000000001|             85.0|             66.0|             39.0|\n",
      "|             Adamlbr|Sun Mar 06 13:00:...|   en|New Event now on....|0.0| 0.0|              24.0|              10.0|              11.0|             46.0|               4.0|       0.0|      0.0|              0.0|             11.0|              98.0|             46.0|             49.0|              6.0|\n",
      "|Lexa deserved better|Sun Mar 06 13:00:...|   en|RT @canoodleclexa...|0.0| 0.0|               8.0| 7.000000000000001|               9.0|             80.0| 7.000000000000001|      84.0|      0.0|              0.0|             12.0|28.000000000000004|             73.0|             59.0|             51.0|\n",
      "|  LoveBakesGoodCakes|Sun Mar 06 13:00:...|   en|Yum, yum! Honey B...|0.0| 0.0|              41.0|               2.0|               6.0|             62.0| 7.000000000000001|       0.0|      0.0|              0.0|             60.0|              69.0|             64.0|             18.0|             11.0|\n",
      "|    High Tech Planet|Sun Mar 06 13:00:...|   en|Google is testing...|0.0| 0.0|              11.0|               5.0|              32.0|             37.0|               5.0|      78.0|      0.0|              0.0|56.99999999999999|              30.0|              6.0|             13.0|57.99999999999999|\n",
      "|                Kael|Sun Mar 06 13:00:...|   en|RT @mgiseelle: Ha...|0.0| 0.0|              16.0|               4.0|14.000000000000002|             23.0|              13.0|       0.0|      0.0|              0.0|             68.0|              85.0|57.99999999999999|             35.0|              6.0|\n",
      "|                Ryan|Sun Mar 06 13:00:...|   en|ALL THAT EFFORT T...|0.0| 0.0|              19.0|14.000000000000002|              24.0|             12.0|              24.0|      61.0|     79.0|              0.0|             78.0|               3.0|             49.0|              1.0|             91.0|\n",
      "|           princesss|Sun Mar 06 13:00:...|   en|RT @SexualGif: Be...|0.0| 0.0|              13.0| 7.000000000000001|              13.0|             34.0|              15.0|       0.0|      0.0|              0.0|56.00000000000001|              93.0|             62.0|             38.0|             39.0|\n",
      "|         Fadi Nasser|Sun Mar 06 13:00:...|   en|#USA missiles cha...|0.0| 0.0| 7.000000000000001|              10.0|               8.0|             30.0|              13.0|       0.0|      0.0|              0.0|             94.0|              75.0|             27.0|             23.0|             20.0|\n",
      "|            Briyon?e|Sun Mar 06 13:00:...|   en|RT @tonestradamus...|0.0| 0.0|              52.0|              19.0|               5.0|              1.0|14.000000000000002|      23.0|      0.0|             75.0|             21.0|               6.0|             84.0|             44.0|             59.0|\n",
      "|       BarnBurnerBBQ|Sun Mar 06 13:00:...|   en|Presenting sponso...|0.0| 0.0|              10.0|              18.0|              10.0|             26.0|               8.0|      67.0|      0.0|              0.0|             36.0|              91.0|             71.0|             91.0|              2.0|\n",
      "|        Majid Navabi|Sun Mar 06 13:00:...|   en|            Download|0.0| 0.0|              12.0|               9.0|              18.0|56.99999999999999|14.000000000000002|       0.0|      0.0|              0.0|             52.0| 56.00000000000001|             15.0|            100.0|              0.0|\n",
      "|        ?????? ?????|Sun Mar 06 13:00:...|   en|RT @Adel__Almalki...|0.0| 0.0|              43.0|               6.0|              20.0|              3.0|               2.0|       0.0|      0.0|              0.0|             90.0| 56.00000000000001|             15.0|              1.0|             39.0|\n",
      "|                 liv|Sun Mar 06 13:00:...|   en|RT @iamjojo: You ...|0.0| 0.0|               5.0|               2.0|               9.0|             89.0|               9.0|       0.0|      0.0|              0.0|              2.0|               2.0|            100.0|             85.0|              2.0|\n",
      "|           LADY GAGA|Sun Mar 06 13:00:...|   en|Miek_tweet #TilIt...|0.0| 0.0|              16.0|              16.0|               8.0|             23.0|              21.0|       0.0|      0.0|              0.0|             80.0| 56.00000000000001|             15.0|              1.0|             39.0|\n",
      "|        donatello ;)|Sun Mar 06 13:00:...|   en|RT @__trillgawdd:...|0.0| 0.0|14.000000000000002|               3.0|              13.0|             66.0|               9.0|       0.0|      0.0|              0.0|             30.0| 56.00000000000001|             53.0|             69.0|             20.0|\n",
      "|                 Liz|Sun Mar 06 13:00:...|   en|RT @Samantha_Evel...|0.0| 0.0|              12.0|               8.0|              24.0|             10.0|              33.0|      43.0|     72.0|             91.0|              5.0|              12.0|             34.0|             61.0|             97.0|\n",
      "|    Chrystal Johnson|Sun Mar 06 13:00:...|   en|Take Aromatherapy...|0.0| 0.0|              16.0|              12.0|              44.0|              8.0|               8.0|       0.0|      0.0|              0.0|             71.0|              96.0|             40.0|             60.0|              2.0|\n",
      "+--------------------+--------------------+-----+--------------------+---+----+------------------+------------------+------------------+-----------------+------------------+----------+---------+-----------------+-----------------+------------------+-----------------+-----------------+-----------------+\n",
      "only showing top 20 rows\n",
      "\n"
     ]
    }
   ],
   "source": [
    "val fullSet = sqlContext.sql(\"select * from tweets\")  //Select all columns\n",
    "fullSet.show"
   ]
  },
  {
   "cell_type": "markdown",
   "metadata": {},
   "source": [
    "##SparkSQL query example on the data.\n",
    "Select all the tweets that have Anger score greated than 70%"
   ]
  },
  {
   "cell_type": "code",
   "execution_count": 6,
   "metadata": {
    "collapsed": false
   },
   "outputs": [
    {
     "name": "stdout",
     "output_type": "stream",
     "text": [
      "0\n",
      "+----+\n",
      "|text|\n",
      "+----+\n",
      "+----+\n",
      "\n"
     ]
    }
   ],
   "source": [
    "val set = sqlContext.sql(\"select text from tweets where Anger > 60\")\n",
    "println(set.count)\n",
    "set.show"
   ]
  },
  {
   "cell_type": "markdown",
   "metadata": {},
   "source": [
    "##Persist the dataset into a parquet file on Object Storage service\n",
    "The parquet file will be reloaded in IPython Part 2 Notebook\n",
    "Note: you can disregard the warning messages related to SLF4J"
   ]
  },
  {
   "cell_type": "code",
   "execution_count": 7,
   "metadata": {
    "collapsed": false
   },
   "outputs": [
    {
     "name": "stdout",
     "output_type": "stream",
     "text": [
      "SLF4J: Failed to load class \"org.slf4j.impl.StaticLoggerBinder\".\n",
      "SLF4J: Defaulting to no-operation (NOP) logger implementation\n",
      "SLF4J: See http://www.slf4j.org/codes.html#StaticLoggerBinder for further details.\n"
     ]
    }
   ],
   "source": [
    "fullSet.repartition(1).saveAsParquetFile(\"swift://notebooks.spark/tweetsFull.parquet\")"
   ]
  },
  {
   "cell_type": "code",
   "execution_count": null,
   "metadata": {
    "collapsed": true
   },
   "outputs": [],
   "source": []
  }
 ],
 "metadata": {
  "kernelspec": {
   "display_name": "Scala 2.10",
   "language": "scala",
   "name": "spark"
  },
  "language_info": {
   "name": "scala"
  },
  "name": "Twitter + Watson Tone Analyzer Part 1.ipynb"
 },
 "nbformat": 4,
 "nbformat_minor": 0
}